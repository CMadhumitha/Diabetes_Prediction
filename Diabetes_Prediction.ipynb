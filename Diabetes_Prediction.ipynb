{
  "nbformat": 4,
  "nbformat_minor": 0,
  "metadata": {
    "colab": {
      "name": "Diabetes Prediction.ipynb",
      "provenance": []
    },
    "kernelspec": {
      "name": "python3",
      "display_name": "Python 3"
    },
    "language_info": {
      "name": "python"
    }
  },
  "cells": [
    {
      "cell_type": "markdown",
      "metadata": {
        "id": "8N3S9KGIcU-2"
      },
      "source": [
        "**Importing the Dependencies**"
      ]
    },
    {
      "cell_type": "code",
      "metadata": {
        "id": "HWVJuwoUe_-m"
      },
      "source": [
        "import numpy as np\n",
        "import pandas as pd\n",
        "import matplotlib.pyplot as plt\n",
        "import seaborn as sns\n",
        "import warnings\n",
        "\n",
        "from sklearn.model_selection import train_test_split\n",
        "from sklearn.preprocessing import StandardScaler\n",
        "from sklearn.metrics import confusion_matrix\n",
        "\n",
        "from sklearn.neighbors import KNeighborsClassifier\n",
        "from sklearn.svm import SVC\n",
        "from sklearn.naive_bayes import GaussianNB\n",
        "from sklearn.ensemble import  RandomForestClassifier\n",
        "from sklearn.metrics import accuracy_score"
      ],
      "execution_count": 23,
      "outputs": []
    },
    {
      "cell_type": "markdown",
      "metadata": {
        "id": "jBT6fTzefOC2"
      },
      "source": [
        "**Data Collection and Analysis**"
      ]
    },
    {
      "cell_type": "code",
      "metadata": {
        "id": "Hn74MlFdfI99"
      },
      "source": [
        "# loading the diabetes dataset to a pandas DataFrame\n",
        "diabetes_dataset = pd.read_csv('/content/diabetes.csv')"
      ],
      "execution_count": 26,
      "outputs": []
    },
    {
      "cell_type": "code",
      "metadata": {
        "colab": {
          "base_uri": "https://localhost:8080/",
          "height": 204
        },
        "id": "hQZsKqqKgfUS",
        "outputId": "d3a4f352-9f6f-40a6-b16b-2aa20bf0f804"
      },
      "source": [
        "# printing the first 5 rows of the dataset\n",
        "diabetes_dataset.head()"
      ],
      "execution_count": 27,
      "outputs": [
        {
          "output_type": "execute_result",
          "data": {
            "text/html": [
              "<div>\n",
              "<style scoped>\n",
              "    .dataframe tbody tr th:only-of-type {\n",
              "        vertical-align: middle;\n",
              "    }\n",
              "\n",
              "    .dataframe tbody tr th {\n",
              "        vertical-align: top;\n",
              "    }\n",
              "\n",
              "    .dataframe thead th {\n",
              "        text-align: right;\n",
              "    }\n",
              "</style>\n",
              "<table border=\"1\" class=\"dataframe\">\n",
              "  <thead>\n",
              "    <tr style=\"text-align: right;\">\n",
              "      <th></th>\n",
              "      <th>Pregnancies</th>\n",
              "      <th>Glucose</th>\n",
              "      <th>BloodPressure</th>\n",
              "      <th>SkinThickness</th>\n",
              "      <th>Insulin</th>\n",
              "      <th>BMI</th>\n",
              "      <th>DiabetesPedigreeFunction</th>\n",
              "      <th>Age</th>\n",
              "      <th>Outcome</th>\n",
              "    </tr>\n",
              "  </thead>\n",
              "  <tbody>\n",
              "    <tr>\n",
              "      <th>0</th>\n",
              "      <td>6</td>\n",
              "      <td>148</td>\n",
              "      <td>72</td>\n",
              "      <td>35</td>\n",
              "      <td>0</td>\n",
              "      <td>33.6</td>\n",
              "      <td>0.627</td>\n",
              "      <td>50</td>\n",
              "      <td>1</td>\n",
              "    </tr>\n",
              "    <tr>\n",
              "      <th>1</th>\n",
              "      <td>1</td>\n",
              "      <td>85</td>\n",
              "      <td>66</td>\n",
              "      <td>29</td>\n",
              "      <td>0</td>\n",
              "      <td>26.6</td>\n",
              "      <td>0.351</td>\n",
              "      <td>31</td>\n",
              "      <td>0</td>\n",
              "    </tr>\n",
              "    <tr>\n",
              "      <th>2</th>\n",
              "      <td>8</td>\n",
              "      <td>183</td>\n",
              "      <td>64</td>\n",
              "      <td>0</td>\n",
              "      <td>0</td>\n",
              "      <td>23.3</td>\n",
              "      <td>0.672</td>\n",
              "      <td>32</td>\n",
              "      <td>1</td>\n",
              "    </tr>\n",
              "    <tr>\n",
              "      <th>3</th>\n",
              "      <td>1</td>\n",
              "      <td>89</td>\n",
              "      <td>66</td>\n",
              "      <td>23</td>\n",
              "      <td>94</td>\n",
              "      <td>28.1</td>\n",
              "      <td>0.167</td>\n",
              "      <td>21</td>\n",
              "      <td>0</td>\n",
              "    </tr>\n",
              "    <tr>\n",
              "      <th>4</th>\n",
              "      <td>0</td>\n",
              "      <td>137</td>\n",
              "      <td>40</td>\n",
              "      <td>35</td>\n",
              "      <td>168</td>\n",
              "      <td>43.1</td>\n",
              "      <td>2.288</td>\n",
              "      <td>33</td>\n",
              "      <td>1</td>\n",
              "    </tr>\n",
              "  </tbody>\n",
              "</table>\n",
              "</div>"
            ],
            "text/plain": [
              "   Pregnancies  Glucose  BloodPressure  ...  DiabetesPedigreeFunction  Age  Outcome\n",
              "0            6      148             72  ...                     0.627   50        1\n",
              "1            1       85             66  ...                     0.351   31        0\n",
              "2            8      183             64  ...                     0.672   32        1\n",
              "3            1       89             66  ...                     0.167   21        0\n",
              "4            0      137             40  ...                     2.288   33        1\n",
              "\n",
              "[5 rows x 9 columns]"
            ]
          },
          "metadata": {
            "tags": []
          },
          "execution_count": 27
        }
      ]
    },
    {
      "cell_type": "code",
      "metadata": {
        "colab": {
          "base_uri": "https://localhost:8080/"
        },
        "id": "CFInfLiEhnEf",
        "outputId": "ab098136-4943-42ad-8ce6-723a951e857c"
      },
      "source": [
        "# no.of rows and columns in the dataset\n",
        "diabetes_dataset.shape"
      ],
      "execution_count": 28,
      "outputs": [
        {
          "output_type": "execute_result",
          "data": {
            "text/plain": [
              "(768, 9)"
            ]
          },
          "metadata": {
            "tags": []
          },
          "execution_count": 28
        }
      ]
    },
    {
      "cell_type": "code",
      "metadata": {
        "colab": {
          "base_uri": "https://localhost:8080/",
          "height": 317
        },
        "id": "UaYIMP_LiMfj",
        "outputId": "21cd1913-af28-4dc9-95f8-0943b20f7f3f"
      },
      "source": [
        "# getting the statistical measures of the data\n",
        "diabetes_dataset.describe()"
      ],
      "execution_count": 29,
      "outputs": [
        {
          "output_type": "execute_result",
          "data": {
            "text/html": [
              "<div>\n",
              "<style scoped>\n",
              "    .dataframe tbody tr th:only-of-type {\n",
              "        vertical-align: middle;\n",
              "    }\n",
              "\n",
              "    .dataframe tbody tr th {\n",
              "        vertical-align: top;\n",
              "    }\n",
              "\n",
              "    .dataframe thead th {\n",
              "        text-align: right;\n",
              "    }\n",
              "</style>\n",
              "<table border=\"1\" class=\"dataframe\">\n",
              "  <thead>\n",
              "    <tr style=\"text-align: right;\">\n",
              "      <th></th>\n",
              "      <th>Pregnancies</th>\n",
              "      <th>Glucose</th>\n",
              "      <th>BloodPressure</th>\n",
              "      <th>SkinThickness</th>\n",
              "      <th>Insulin</th>\n",
              "      <th>BMI</th>\n",
              "      <th>DiabetesPedigreeFunction</th>\n",
              "      <th>Age</th>\n",
              "      <th>Outcome</th>\n",
              "    </tr>\n",
              "  </thead>\n",
              "  <tbody>\n",
              "    <tr>\n",
              "      <th>count</th>\n",
              "      <td>768.000000</td>\n",
              "      <td>768.000000</td>\n",
              "      <td>768.000000</td>\n",
              "      <td>768.000000</td>\n",
              "      <td>768.000000</td>\n",
              "      <td>768.000000</td>\n",
              "      <td>768.000000</td>\n",
              "      <td>768.000000</td>\n",
              "      <td>768.000000</td>\n",
              "    </tr>\n",
              "    <tr>\n",
              "      <th>mean</th>\n",
              "      <td>3.845052</td>\n",
              "      <td>120.894531</td>\n",
              "      <td>69.105469</td>\n",
              "      <td>20.536458</td>\n",
              "      <td>79.799479</td>\n",
              "      <td>31.992578</td>\n",
              "      <td>0.471876</td>\n",
              "      <td>33.240885</td>\n",
              "      <td>0.348958</td>\n",
              "    </tr>\n",
              "    <tr>\n",
              "      <th>std</th>\n",
              "      <td>3.369578</td>\n",
              "      <td>31.972618</td>\n",
              "      <td>19.355807</td>\n",
              "      <td>15.952218</td>\n",
              "      <td>115.244002</td>\n",
              "      <td>7.884160</td>\n",
              "      <td>0.331329</td>\n",
              "      <td>11.760232</td>\n",
              "      <td>0.476951</td>\n",
              "    </tr>\n",
              "    <tr>\n",
              "      <th>min</th>\n",
              "      <td>0.000000</td>\n",
              "      <td>0.000000</td>\n",
              "      <td>0.000000</td>\n",
              "      <td>0.000000</td>\n",
              "      <td>0.000000</td>\n",
              "      <td>0.000000</td>\n",
              "      <td>0.078000</td>\n",
              "      <td>21.000000</td>\n",
              "      <td>0.000000</td>\n",
              "    </tr>\n",
              "    <tr>\n",
              "      <th>25%</th>\n",
              "      <td>1.000000</td>\n",
              "      <td>99.000000</td>\n",
              "      <td>62.000000</td>\n",
              "      <td>0.000000</td>\n",
              "      <td>0.000000</td>\n",
              "      <td>27.300000</td>\n",
              "      <td>0.243750</td>\n",
              "      <td>24.000000</td>\n",
              "      <td>0.000000</td>\n",
              "    </tr>\n",
              "    <tr>\n",
              "      <th>50%</th>\n",
              "      <td>3.000000</td>\n",
              "      <td>117.000000</td>\n",
              "      <td>72.000000</td>\n",
              "      <td>23.000000</td>\n",
              "      <td>30.500000</td>\n",
              "      <td>32.000000</td>\n",
              "      <td>0.372500</td>\n",
              "      <td>29.000000</td>\n",
              "      <td>0.000000</td>\n",
              "    </tr>\n",
              "    <tr>\n",
              "      <th>75%</th>\n",
              "      <td>6.000000</td>\n",
              "      <td>140.250000</td>\n",
              "      <td>80.000000</td>\n",
              "      <td>32.000000</td>\n",
              "      <td>127.250000</td>\n",
              "      <td>36.600000</td>\n",
              "      <td>0.626250</td>\n",
              "      <td>41.000000</td>\n",
              "      <td>1.000000</td>\n",
              "    </tr>\n",
              "    <tr>\n",
              "      <th>max</th>\n",
              "      <td>17.000000</td>\n",
              "      <td>199.000000</td>\n",
              "      <td>122.000000</td>\n",
              "      <td>99.000000</td>\n",
              "      <td>846.000000</td>\n",
              "      <td>67.100000</td>\n",
              "      <td>2.420000</td>\n",
              "      <td>81.000000</td>\n",
              "      <td>1.000000</td>\n",
              "    </tr>\n",
              "  </tbody>\n",
              "</table>\n",
              "</div>"
            ],
            "text/plain": [
              "       Pregnancies     Glucose  ...         Age     Outcome\n",
              "count   768.000000  768.000000  ...  768.000000  768.000000\n",
              "mean      3.845052  120.894531  ...   33.240885    0.348958\n",
              "std       3.369578   31.972618  ...   11.760232    0.476951\n",
              "min       0.000000    0.000000  ...   21.000000    0.000000\n",
              "25%       1.000000   99.000000  ...   24.000000    0.000000\n",
              "50%       3.000000  117.000000  ...   29.000000    0.000000\n",
              "75%       6.000000  140.250000  ...   41.000000    1.000000\n",
              "max      17.000000  199.000000  ...   81.000000    1.000000\n",
              "\n",
              "[8 rows x 9 columns]"
            ]
          },
          "metadata": {
            "tags": []
          },
          "execution_count": 29
        }
      ]
    },
    {
      "cell_type": "code",
      "metadata": {
        "colab": {
          "base_uri": "https://localhost:8080/"
        },
        "id": "JBOluxlRi_Fr",
        "outputId": "5260d867-da98-4ba4-ca93-e43d8a9e48ca"
      },
      "source": [
        "diabetes_dataset['Outcome'].value_counts()"
      ],
      "execution_count": 30,
      "outputs": [
        {
          "output_type": "execute_result",
          "data": {
            "text/plain": [
              "0    500\n",
              "1    268\n",
              "Name: Outcome, dtype: int64"
            ]
          },
          "metadata": {
            "tags": []
          },
          "execution_count": 30
        }
      ]
    },
    {
      "cell_type": "markdown",
      "metadata": {
        "id": "d9f0frufj2qy"
      },
      "source": [
        "**0 ---> Non-Diabetic**\n",
        "\n",
        "**1 ---> Diabetic**\n",
        "\n",
        "\n",
        "\n",
        "\n",
        " "
      ]
    },
    {
      "cell_type": "code",
      "metadata": {
        "colab": {
          "base_uri": "https://localhost:8080/",
          "height": 162
        },
        "id": "qjxT3RngjxPx",
        "outputId": "170472b9-9be3-441f-a60b-cbfd254d6ba4"
      },
      "source": [
        "diabetes_dataset.groupby('Outcome').mean()"
      ],
      "execution_count": 31,
      "outputs": [
        {
          "output_type": "execute_result",
          "data": {
            "text/html": [
              "<div>\n",
              "<style scoped>\n",
              "    .dataframe tbody tr th:only-of-type {\n",
              "        vertical-align: middle;\n",
              "    }\n",
              "\n",
              "    .dataframe tbody tr th {\n",
              "        vertical-align: top;\n",
              "    }\n",
              "\n",
              "    .dataframe thead th {\n",
              "        text-align: right;\n",
              "    }\n",
              "</style>\n",
              "<table border=\"1\" class=\"dataframe\">\n",
              "  <thead>\n",
              "    <tr style=\"text-align: right;\">\n",
              "      <th></th>\n",
              "      <th>Pregnancies</th>\n",
              "      <th>Glucose</th>\n",
              "      <th>BloodPressure</th>\n",
              "      <th>SkinThickness</th>\n",
              "      <th>Insulin</th>\n",
              "      <th>BMI</th>\n",
              "      <th>DiabetesPedigreeFunction</th>\n",
              "      <th>Age</th>\n",
              "    </tr>\n",
              "    <tr>\n",
              "      <th>Outcome</th>\n",
              "      <th></th>\n",
              "      <th></th>\n",
              "      <th></th>\n",
              "      <th></th>\n",
              "      <th></th>\n",
              "      <th></th>\n",
              "      <th></th>\n",
              "      <th></th>\n",
              "    </tr>\n",
              "  </thead>\n",
              "  <tbody>\n",
              "    <tr>\n",
              "      <th>0</th>\n",
              "      <td>3.298000</td>\n",
              "      <td>109.980000</td>\n",
              "      <td>68.184000</td>\n",
              "      <td>19.664000</td>\n",
              "      <td>68.792000</td>\n",
              "      <td>30.304200</td>\n",
              "      <td>0.429734</td>\n",
              "      <td>31.190000</td>\n",
              "    </tr>\n",
              "    <tr>\n",
              "      <th>1</th>\n",
              "      <td>4.865672</td>\n",
              "      <td>141.257463</td>\n",
              "      <td>70.824627</td>\n",
              "      <td>22.164179</td>\n",
              "      <td>100.335821</td>\n",
              "      <td>35.142537</td>\n",
              "      <td>0.550500</td>\n",
              "      <td>37.067164</td>\n",
              "    </tr>\n",
              "  </tbody>\n",
              "</table>\n",
              "</div>"
            ],
            "text/plain": [
              "         Pregnancies     Glucose  ...  DiabetesPedigreeFunction        Age\n",
              "Outcome                           ...                                     \n",
              "0           3.298000  109.980000  ...                  0.429734  31.190000\n",
              "1           4.865672  141.257463  ...                  0.550500  37.067164\n",
              "\n",
              "[2 rows x 8 columns]"
            ]
          },
          "metadata": {
            "tags": []
          },
          "execution_count": 31
        }
      ]
    },
    {
      "cell_type": "code",
      "metadata": {
        "id": "wGJnGlDSlhtD"
      },
      "source": [
        "# separating the data and labels \n",
        "X = diabetes_dataset.drop(columns='Outcome',axis=1)\n",
        "Y = diabetes_dataset['Outcome']"
      ],
      "execution_count": 32,
      "outputs": []
    },
    {
      "cell_type": "code",
      "metadata": {
        "colab": {
          "base_uri": "https://localhost:8080/"
        },
        "id": "j1J3Dcf7nH2g",
        "outputId": "a243a957-2752-4599-a67c-c37893e35f15"
      },
      "source": [
        "print(X)"
      ],
      "execution_count": 33,
      "outputs": [
        {
          "output_type": "stream",
          "text": [
            "     Pregnancies  Glucose  BloodPressure  ...   BMI  DiabetesPedigreeFunction  Age\n",
            "0              6      148             72  ...  33.6                     0.627   50\n",
            "1              1       85             66  ...  26.6                     0.351   31\n",
            "2              8      183             64  ...  23.3                     0.672   32\n",
            "3              1       89             66  ...  28.1                     0.167   21\n",
            "4              0      137             40  ...  43.1                     2.288   33\n",
            "..           ...      ...            ...  ...   ...                       ...  ...\n",
            "763           10      101             76  ...  32.9                     0.171   63\n",
            "764            2      122             70  ...  36.8                     0.340   27\n",
            "765            5      121             72  ...  26.2                     0.245   30\n",
            "766            1      126             60  ...  30.1                     0.349   47\n",
            "767            1       93             70  ...  30.4                     0.315   23\n",
            "\n",
            "[768 rows x 8 columns]\n"
          ],
          "name": "stdout"
        }
      ]
    },
    {
      "cell_type": "code",
      "metadata": {
        "colab": {
          "base_uri": "https://localhost:8080/"
        },
        "id": "a5scMqLxnY-z",
        "outputId": "5e02aa69-36bf-403f-fab0-db98242c061d"
      },
      "source": [
        "print(Y)"
      ],
      "execution_count": 34,
      "outputs": [
        {
          "output_type": "stream",
          "text": [
            "0      1\n",
            "1      0\n",
            "2      1\n",
            "3      0\n",
            "4      1\n",
            "      ..\n",
            "763    0\n",
            "764    0\n",
            "765    0\n",
            "766    1\n",
            "767    0\n",
            "Name: Outcome, Length: 768, dtype: int64\n"
          ],
          "name": "stdout"
        }
      ]
    },
    {
      "cell_type": "code",
      "metadata": {
        "colab": {
          "base_uri": "https://localhost:8080/"
        },
        "id": "E7ZPbytHqibf",
        "outputId": "8497bd75-b617-4cd9-b0fc-c580f6d287b0"
      },
      "source": [
        "diabetes_dataset.info()"
      ],
      "execution_count": 35,
      "outputs": [
        {
          "output_type": "stream",
          "text": [
            "<class 'pandas.core.frame.DataFrame'>\n",
            "RangeIndex: 768 entries, 0 to 767\n",
            "Data columns (total 9 columns):\n",
            " #   Column                    Non-Null Count  Dtype  \n",
            "---  ------                    --------------  -----  \n",
            " 0   Pregnancies               768 non-null    int64  \n",
            " 1   Glucose                   768 non-null    int64  \n",
            " 2   BloodPressure             768 non-null    int64  \n",
            " 3   SkinThickness             768 non-null    int64  \n",
            " 4   Insulin                   768 non-null    int64  \n",
            " 5   BMI                       768 non-null    float64\n",
            " 6   DiabetesPedigreeFunction  768 non-null    float64\n",
            " 7   Age                       768 non-null    int64  \n",
            " 8   Outcome                   768 non-null    int64  \n",
            "dtypes: float64(2), int64(7)\n",
            "memory usage: 54.1 KB\n"
          ],
          "name": "stdout"
        }
      ]
    },
    {
      "cell_type": "markdown",
      "metadata": {
        "id": "4D7zZ9dpv2g4"
      },
      "source": [
        "**Graphs**"
      ]
    },
    {
      "cell_type": "code",
      "metadata": {
        "colab": {
          "base_uri": "https://localhost:8080/",
          "height": 348
        },
        "id": "J7rrXFLXvteY",
        "outputId": "43b2c69f-ef0d-414b-bbe9-d9505c3513f0"
      },
      "source": [
        "diabetes_dataset.corr()"
      ],
      "execution_count": 36,
      "outputs": [
        {
          "output_type": "execute_result",
          "data": {
            "text/html": [
              "<div>\n",
              "<style scoped>\n",
              "    .dataframe tbody tr th:only-of-type {\n",
              "        vertical-align: middle;\n",
              "    }\n",
              "\n",
              "    .dataframe tbody tr th {\n",
              "        vertical-align: top;\n",
              "    }\n",
              "\n",
              "    .dataframe thead th {\n",
              "        text-align: right;\n",
              "    }\n",
              "</style>\n",
              "<table border=\"1\" class=\"dataframe\">\n",
              "  <thead>\n",
              "    <tr style=\"text-align: right;\">\n",
              "      <th></th>\n",
              "      <th>Pregnancies</th>\n",
              "      <th>Glucose</th>\n",
              "      <th>BloodPressure</th>\n",
              "      <th>SkinThickness</th>\n",
              "      <th>Insulin</th>\n",
              "      <th>BMI</th>\n",
              "      <th>DiabetesPedigreeFunction</th>\n",
              "      <th>Age</th>\n",
              "      <th>Outcome</th>\n",
              "    </tr>\n",
              "  </thead>\n",
              "  <tbody>\n",
              "    <tr>\n",
              "      <th>Pregnancies</th>\n",
              "      <td>1.000000</td>\n",
              "      <td>0.129459</td>\n",
              "      <td>0.141282</td>\n",
              "      <td>-0.081672</td>\n",
              "      <td>-0.073535</td>\n",
              "      <td>0.017683</td>\n",
              "      <td>-0.033523</td>\n",
              "      <td>0.544341</td>\n",
              "      <td>0.221898</td>\n",
              "    </tr>\n",
              "    <tr>\n",
              "      <th>Glucose</th>\n",
              "      <td>0.129459</td>\n",
              "      <td>1.000000</td>\n",
              "      <td>0.152590</td>\n",
              "      <td>0.057328</td>\n",
              "      <td>0.331357</td>\n",
              "      <td>0.221071</td>\n",
              "      <td>0.137337</td>\n",
              "      <td>0.263514</td>\n",
              "      <td>0.466581</td>\n",
              "    </tr>\n",
              "    <tr>\n",
              "      <th>BloodPressure</th>\n",
              "      <td>0.141282</td>\n",
              "      <td>0.152590</td>\n",
              "      <td>1.000000</td>\n",
              "      <td>0.207371</td>\n",
              "      <td>0.088933</td>\n",
              "      <td>0.281805</td>\n",
              "      <td>0.041265</td>\n",
              "      <td>0.239528</td>\n",
              "      <td>0.065068</td>\n",
              "    </tr>\n",
              "    <tr>\n",
              "      <th>SkinThickness</th>\n",
              "      <td>-0.081672</td>\n",
              "      <td>0.057328</td>\n",
              "      <td>0.207371</td>\n",
              "      <td>1.000000</td>\n",
              "      <td>0.436783</td>\n",
              "      <td>0.392573</td>\n",
              "      <td>0.183928</td>\n",
              "      <td>-0.113970</td>\n",
              "      <td>0.074752</td>\n",
              "    </tr>\n",
              "    <tr>\n",
              "      <th>Insulin</th>\n",
              "      <td>-0.073535</td>\n",
              "      <td>0.331357</td>\n",
              "      <td>0.088933</td>\n",
              "      <td>0.436783</td>\n",
              "      <td>1.000000</td>\n",
              "      <td>0.197859</td>\n",
              "      <td>0.185071</td>\n",
              "      <td>-0.042163</td>\n",
              "      <td>0.130548</td>\n",
              "    </tr>\n",
              "    <tr>\n",
              "      <th>BMI</th>\n",
              "      <td>0.017683</td>\n",
              "      <td>0.221071</td>\n",
              "      <td>0.281805</td>\n",
              "      <td>0.392573</td>\n",
              "      <td>0.197859</td>\n",
              "      <td>1.000000</td>\n",
              "      <td>0.140647</td>\n",
              "      <td>0.036242</td>\n",
              "      <td>0.292695</td>\n",
              "    </tr>\n",
              "    <tr>\n",
              "      <th>DiabetesPedigreeFunction</th>\n",
              "      <td>-0.033523</td>\n",
              "      <td>0.137337</td>\n",
              "      <td>0.041265</td>\n",
              "      <td>0.183928</td>\n",
              "      <td>0.185071</td>\n",
              "      <td>0.140647</td>\n",
              "      <td>1.000000</td>\n",
              "      <td>0.033561</td>\n",
              "      <td>0.173844</td>\n",
              "    </tr>\n",
              "    <tr>\n",
              "      <th>Age</th>\n",
              "      <td>0.544341</td>\n",
              "      <td>0.263514</td>\n",
              "      <td>0.239528</td>\n",
              "      <td>-0.113970</td>\n",
              "      <td>-0.042163</td>\n",
              "      <td>0.036242</td>\n",
              "      <td>0.033561</td>\n",
              "      <td>1.000000</td>\n",
              "      <td>0.238356</td>\n",
              "    </tr>\n",
              "    <tr>\n",
              "      <th>Outcome</th>\n",
              "      <td>0.221898</td>\n",
              "      <td>0.466581</td>\n",
              "      <td>0.065068</td>\n",
              "      <td>0.074752</td>\n",
              "      <td>0.130548</td>\n",
              "      <td>0.292695</td>\n",
              "      <td>0.173844</td>\n",
              "      <td>0.238356</td>\n",
              "      <td>1.000000</td>\n",
              "    </tr>\n",
              "  </tbody>\n",
              "</table>\n",
              "</div>"
            ],
            "text/plain": [
              "                          Pregnancies   Glucose  ...       Age   Outcome\n",
              "Pregnancies                  1.000000  0.129459  ...  0.544341  0.221898\n",
              "Glucose                      0.129459  1.000000  ...  0.263514  0.466581\n",
              "BloodPressure                0.141282  0.152590  ...  0.239528  0.065068\n",
              "SkinThickness               -0.081672  0.057328  ... -0.113970  0.074752\n",
              "Insulin                     -0.073535  0.331357  ... -0.042163  0.130548\n",
              "BMI                          0.017683  0.221071  ...  0.036242  0.292695\n",
              "DiabetesPedigreeFunction    -0.033523  0.137337  ...  0.033561  0.173844\n",
              "Age                          0.544341  0.263514  ...  1.000000  0.238356\n",
              "Outcome                      0.221898  0.466581  ...  0.238356  1.000000\n",
              "\n",
              "[9 rows x 9 columns]"
            ]
          },
          "metadata": {
            "tags": []
          },
          "execution_count": 36
        }
      ]
    },
    {
      "cell_type": "code",
      "metadata": {
        "colab": {
          "base_uri": "https://localhost:8080/",
          "height": 657
        },
        "id": "d11OnBvJwCCQ",
        "outputId": "77fc8d2b-55de-4ebc-b2a8-3c800305ded8"
      },
      "source": [
        "fig = plt.figure(figsize = (19,15))\n",
        "plt.matshow(diabetes_dataset.corr()**2,fignum = fig.number)\n",
        "plt.xticks(range(diabetes_dataset.shape[1]),diabetes_dataset.columns,fontsize = 14 , rotation = 45)\n",
        "plt.yticks(range(diabetes_dataset.shape[1]),diabetes_dataset.columns,fontsize = 14 )\n",
        "cb = plt.colorbar()\n",
        "cb.ax.tick_params(labelsize = 14)\n",
        "plt.title(\"correlation matrix of squared correlations \\n\\n\\n\\n\\n\",fontsize = 20) "
      ],
      "execution_count": 38,
      "outputs": [
        {
          "output_type": "execute_result",
          "data": {
            "text/plain": [
              "Text(0.5, 1.05, 'correlation matrix of squared correlations \\n\\n\\n\\n\\n')"
            ]
          },
          "metadata": {
            "tags": []
          },
          "execution_count": 38
        },
        {
          "output_type": "display_data",
          "data": {
            "image/png": "[encoded data removed]",
            "text/plain": [
              "<Figure size 1368x1080 with 2 Axes>"
            ]
          },
          "metadata": {
            "tags": [],
            "needs_background": "light"
          }
        }
      ]
    },
    {
      "cell_type": "markdown",
      "metadata": {
        "id": "2jY3-9xs0jDl"
      },
      "source": [
        "**check which columns are useful and which are not**"
      ]
    },
    {
      "cell_type": "code",
      "metadata": {
        "colab": {
          "base_uri": "https://localhost:8080/",
          "height": 85
        },
        "id": "GX5UlfzNx22y",
        "outputId": "34238cf2-a4e4-4b32-fa4f-a679ba91a460"
      },
      "source": [
        "# 1 ---> Diabetic\n",
        "# 0 ---> Non-Diabetic(healthy)\n",
        "print(diabetes_dataset[\"Outcome\"].value_counts())\n",
        "fig = plt.figure(figsize=(10,6))"
      ],
      "execution_count": 39,
      "outputs": [
        {
          "output_type": "stream",
          "text": [
            "0    500\n",
            "1    268\n",
            "Name: Outcome, dtype: int64\n"
          ],
          "name": "stdout"
        },
        {
          "output_type": "display_data",
          "data": {
            "text/plain": [
              "<Figure size 720x432 with 0 Axes>"
            ]
          },
          "metadata": {
            "tags": []
          }
        }
      ]
    },
    {
      "cell_type": "code",
      "metadata": {
        "colab": {
          "base_uri": "https://localhost:8080/",
          "height": 435
        },
        "id": "eCMasM_I1Xlu",
        "outputId": "b9624b58-4123-4f4e-a1ee-1e220c22d7ac"
      },
      "source": [
        "# glucose for diabetics\n",
        "fig = plt.figure(figsize=(16,6))\n",
        "\n",
        "sns.displot(diabetes_dataset[\"Glucose\"][diabetes_dataset[\"Outcome\"] == 1])\n",
        "plt.xticks([i for i in range(0,201,15)],rotation = 45)\n",
        "plt.ylabel(\"Glucose count\")\n",
        "plt.title(\"Glucose\",fontsize = 20)"
      ],
      "execution_count": 41,
      "outputs": [
        {
          "output_type": "execute_result",
          "data": {
            "text/plain": [
              "Text(0.5, 1.0, 'Glucose')"
            ]
          },
          "metadata": {
            "tags": []
          },
          "execution_count": 41
        },
        {
          "output_type": "display_data",
          "data": {
            "text/plain": [
              "<Figure size 1152x432 with 0 Axes>"
            ]
          },
          "metadata": {
            "tags": []
          }
        },
        {
          "output_type": "display_data",
          "data": {
            "image/png": "[encoded data removed]",
            "text/plain": [
              "<Figure size 360x360 with 1 Axes>"
            ]
          },
          "metadata": {
            "tags": [],
            "needs_background": "light"
          }
        }
      ]
    },
    {
      "cell_type": "code",
      "metadata": {
        "colab": {
          "base_uri": "https://localhost:8080/",
          "height": 371
        },
        "id": "H1k_LhJd2br0",
        "outputId": "8f05474c-be34-4274-bbac-f781f68e60db"
      },
      "source": [
        "# insulin for diabetic\n",
        "sns.distplot(diabetes_dataset[\"Insulin\"][diabetes_dataset[\"Outcome\"]==1])\n",
        "plt.xticks()\n",
        "plt.title(\"Insulin\",fontsize =20)"
      ],
      "execution_count": 42,
      "outputs": [
        {
          "output_type": "stream",
          "text": [
            "/usr/local/lib/python3.7/dist-packages/seaborn/distributions.py:2557: FutureWarning: `distplot` is a deprecated function and will be removed in a future version. Please adapt your code to use either `displot` (a figure-level function with similar flexibility) or `histplot` (an axes-level function for histograms).\n",
            "  warnings.warn(msg, FutureWarning)\n"
          ],
          "name": "stderr"
        },
        {
          "output_type": "execute_result",
          "data": {
            "text/plain": [
              "Text(0.5, 1.0, 'Insulin')"
            ]
          },
          "metadata": {
            "tags": []
          },
          "execution_count": 42
        },
        {
          "output_type": "display_data",
          "data": {
            "image/png": "[encoded data removed]",
            "text/plain": [
              "<Figure size 432x288 with 1 Axes>"
            ]
          },
          "metadata": {
            "tags": [],
            "needs_background": "light"
          }
        }
      ]
    },
    {
      "cell_type": "code",
      "metadata": {
        "colab": {
          "base_uri": "https://localhost:8080/",
          "height": 380
        },
        "id": "NygvPih-4B46",
        "outputId": "0f5b0dc1-eae9-4993-c1f2-64798ef8fc20"
      },
      "source": [
        "# BMI for diabetic\n",
        "fig = plt.figure(figsize=(16,6))\n",
        "sns.distplot(diabetes_dataset[\"BMI\"][diabetes_dataset[\"Outcome\"]==1])\n",
        "plt.xticks()\n",
        "plt.title(\"BMI\",fontsize = 20)"
      ],
      "execution_count": 43,
      "outputs": [
        {
          "output_type": "stream",
          "text": [
            "/usr/local/lib/python3.7/dist-packages/seaborn/distributions.py:2557: FutureWarning: `distplot` is a deprecated function and will be removed in a future version. Please adapt your code to use either `displot` (a figure-level function with similar flexibility) or `histplot` (an axes-level function for histograms).\n",
            "  warnings.warn(msg, FutureWarning)\n"
          ],
          "name": "stderr"
        },
        {
          "output_type": "execute_result",
          "data": {
            "text/plain": [
              "Text(0.5, 1.0, 'BMI')"
            ]
          },
          "metadata": {
            "tags": []
          },
          "execution_count": 43
        },
        {
          "output_type": "display_data",
          "data": {
            "image/png": "[encoded data removed]",
            "text/plain": [
              "<Figure size 1152x432 with 1 Axes>"
            ]
          },
          "metadata": {
            "tags": [],
            "needs_background": "light"
          }
        }
      ]
    },
    {
      "cell_type": "code",
      "metadata": {
        "colab": {
          "base_uri": "https://localhost:8080/",
          "height": 336
        },
        "id": "DRK78pMH476T",
        "outputId": "12c784f7-f67a-4f44-bbb7-cfa1189de0b9"
      },
      "source": [
        "# diabeticPedigree function for diabetic\n",
        "fig = plt.figure(figsize=(16,5))\n",
        "sns.distplot(diabetes_dataset[\"DiabetesPedigreeFunction\"][diabetes_dataset[\"Outcome\"]==1])\n",
        "plt.xticks([i*0.15 for i in range(1,12)])\n",
        "plt.title(\"diabetespedigreefunction\")"
      ],
      "execution_count": 44,
      "outputs": [
        {
          "output_type": "stream",
          "text": [
            "/usr/local/lib/python3.7/dist-packages/seaborn/distributions.py:2557: FutureWarning: `distplot` is a deprecated function and will be removed in a future version. Please adapt your code to use either `displot` (a figure-level function with similar flexibility) or `histplot` (an axes-level function for histograms).\n",
            "  warnings.warn(msg, FutureWarning)\n"
          ],
          "name": "stderr"
        },
        {
          "output_type": "execute_result",
          "data": {
            "text/plain": [
              "Text(0.5, 1.0, 'diabetespedigreefunction')"
            ]
          },
          "metadata": {
            "tags": []
          },
          "execution_count": 44
        },
        {
          "output_type": "display_data",
          "data": {
            "image/png": "[encoded data removed]",
            "text/plain": [
              "<Figure size 1152x360 with 1 Axes>"
            ]
          },
          "metadata": {
            "tags": [],
            "needs_background": "light"
          }
        }
      ]
    },
    {
      "cell_type": "code",
      "metadata": {
        "colab": {
          "base_uri": "https://localhost:8080/",
          "height": 374
        },
        "id": "kuMQg1op6CHO",
        "outputId": "0fbcaaf8-d89b-4616-f6cd-e806fc1c095a"
      },
      "source": [
        "# Age for diabetic\n",
        "fig = plt.figure(figsize=(16,6))\n",
        "sns.distplot(diabetes_dataset[\"Age\"][diabetes_dataset[\"Outcome\"]==1])\n",
        "plt.xticks([i*0.15 for i in range(1,12)])\n",
        "plt.title(\"Age\")"
      ],
      "execution_count": 45,
      "outputs": [
        {
          "output_type": "stream",
          "text": [
            "/usr/local/lib/python3.7/dist-packages/seaborn/distributions.py:2557: FutureWarning: `distplot` is a deprecated function and will be removed in a future version. Please adapt your code to use either `displot` (a figure-level function with similar flexibility) or `histplot` (an axes-level function for histograms).\n",
            "  warnings.warn(msg, FutureWarning)\n"
          ],
          "name": "stderr"
        },
        {
          "output_type": "execute_result",
          "data": {
            "text/plain": [
              "Text(0.5, 1.0, 'Age')"
            ]
          },
          "metadata": {
            "tags": []
          },
          "execution_count": 45
        },
        {
          "output_type": "display_data",
          "data": {
            "image/png": "[encoded data removed]",
            "text/plain": [
              "<Figure size 1152x432 with 1 Axes>"
            ]
          },
          "metadata": {
            "tags": [],
            "needs_background": "light"
          }
        }
      ]
    },
    {
      "cell_type": "markdown",
      "metadata": {
        "id": "GaiD4lup6gkS"
      },
      "source": [
        "**Data pre-processing using standard scalar**"
      ]
    },
    {
      "cell_type": "code",
      "metadata": {
        "id": "W6gSMWBn6aiE"
      },
      "source": [
        "# separating dependent and independent columns\n",
        "X = diabetes_dataset.drop([\"Pregnancies\",\"BloodPressure\",\"SkinThickness\"],axis=1)\n",
        "y = diabetes_dataset.iloc[:,-1]"
      ],
      "execution_count": 51,
      "outputs": []
    },
    {
      "cell_type": "code",
      "metadata": {
        "colab": {
          "base_uri": "https://localhost:8080/"
        },
        "id": "KIdcpcNk8qdp",
        "outputId": "08effd6c-bd18-4f51-95c8-14e77875b131"
      },
      "source": [
        "X_train,X_test,y_train,y_test = train_test_split(X,y,test_size = 0.2,random_state =0)\n",
        "print(\"X_train size : \",X_train.shape) \n",
        "print(\"y_train size : \", y_train.shape,\"\\n\") \n",
        "print(\"X_test size : \", X_test.shape) \n",
        "print(\"y_test size : \", y_test.shape)"
      ],
      "execution_count": 52,
      "outputs": [
        {
          "output_type": "stream",
          "text": [
            "X_train size :  (614, 6)\n",
            "y_train size :  (614,) \n",
            "\n",
            "X_test size :  (154, 6)\n",
            "y_test size :  (154,)\n"
          ],
          "name": "stdout"
        }
      ]
    },
    {
      "cell_type": "code",
      "metadata": {
        "id": "pupPY07M9_pV"
      },
      "source": [
        "# standard scaling\n",
        "sc = StandardScaler()\n",
        "X_train = sc.fit_transform(X_train)\n",
        "X_test = sc.fit_transform(X_test)"
      ],
      "execution_count": 54,
      "outputs": []
    },
    {
      "cell_type": "code",
      "metadata": {
        "colab": {
          "base_uri": "https://localhost:8080/"
        },
        "id": "lC4Wnn4W-pLX",
        "outputId": "51afe7e3-a619-45b5-e176-c9079688ebed"
      },
      "source": [
        "print(sc)"
      ],
      "execution_count": 55,
      "outputs": [
        {
          "output_type": "stream",
          "text": [
            "StandardScaler(copy=True, with_mean=True, with_std=True)\n"
          ],
          "name": "stdout"
        }
      ]
    },
    {
      "cell_type": "code",
      "metadata": {
        "colab": {
          "base_uri": "https://localhost:8080/"
        },
        "id": "6sIeoRr5-wwZ",
        "outputId": "7fdafb64-cfac-44a4-c929-97828ea846b8"
      },
      "source": [
        "print(X_train)"
      ],
      "execution_count": 56,
      "outputs": [
        {
          "output_type": "stream",
          "text": [
            "[[ 0.91569367  0.3736349   0.37852648  0.67740401  1.69955804  1.33352186]\n",
            " [-0.75182191 -0.69965674 -0.50667229 -0.07049698 -0.96569189 -0.74989397]\n",
            " [ 1.38763205  5.09271083  2.54094063 -0.11855487 -0.88240283 -0.74989397]\n",
            " ...\n",
            " [-0.84620959 -0.69965674 -0.94927168 -0.95656442 -1.04898095 -0.74989397]\n",
            " [-1.12937261 -0.69965674 -0.26640405 -0.50001442  0.11706589 -0.74989397]\n",
            " [ 0.47521786 -0.69965674 -4.07275877  0.52121586  2.94889395 -0.74989397]]\n"
          ],
          "name": "stdout"
        }
      ]
    },
    {
      "cell_type": "code",
      "metadata": {
        "colab": {
          "base_uri": "https://localhost:8080/"
        },
        "id": "XSwMe-NR-3mV",
        "outputId": "84ebd575-7c42-41b9-f16f-7e77a4899fbd"
      },
      "source": [
        "print(X_test)"
      ],
      "execution_count": 57,
      "outputs": [
        {
          "output_type": "stream",
          "text": [
            "[[ 2.39507259e+00 -6.69261578e-01  1.52657475e+00  2.78935129e+00\n",
            "  -9.30642826e-01  1.50883920e+00]\n",
            " [-4.25892449e-01  2.80308009e-01  3.19441160e-01 -2.76988247e-01\n",
            "  -8.35980346e-01 -6.62761146e-01]\n",
            " [-1.37643502e+00 -6.69261578e-01  3.71360884e-01 -3.17253311e-01\n",
            "  -6.46655385e-01 -6.62761146e-01]\n",
            " [ 1.38320470e+00  9.92485199e-01 -6.92993461e-01  2.89819971e-01\n",
            "   1.81456910e+00  1.50883920e+00]\n",
            " [-3.03241795e-01 -6.69261578e-01 -8.48752633e-01  5.15923795e-01\n",
            "  -7.86805031e-02 -6.62761146e-01]\n",
            " [-1.22312170e+00 -2.89433743e-01 -5.89154013e-01 -6.51763079e-01\n",
            "  -7.41317865e-01 -6.62761146e-01]\n",
            " [ 9.53927407e-01  9.54502416e-01  3.97320746e-01  1.23759765e+00\n",
            "   1.10644458e-01  1.50883920e+00]\n",
            " [ 1.68983133e+00  8.12066978e-01  2.80501367e-01  2.04599625e+00\n",
            "   1.90923158e+00  1.50883920e+00]\n",
            " [ 1.87360820e-01  1.94205479e+00 -4.46374771e-01  3.42739770e+00\n",
            "  -6.46655385e-01 -6.62761146e-01]\n",
            " [-5.48543103e-01  1.13492064e+00  8.51618332e-01 -5.24773260e-01\n",
            "   2.19321902e+00 -6.62761146e-01]\n",
            " [ 1.13790339e+00  1.65718391e+00  5.98425392e-02  1.10751051e+00\n",
            "  -3.62667944e-01  1.50883920e+00]\n",
            " [ 2.02712063e+00  1.29634747e+00  1.61743426e+00  1.67431873e+00\n",
            "   2.00389406e+00  1.50883920e+00]\n",
            " [-2.11253805e-01 -6.69261578e-01 -8.09812840e-01  7.76098059e-01\n",
            "   2.38254399e+00 -6.62761146e-01]\n",
            " [-1.19245904e+00  4.22743447e-01 -3.42535323e-01  3.73403165e+00\n",
            "  -6.46655385e-01 -6.62761146e-01]\n",
            " [-1.71372432e+00 -6.69261578e-01  1.11762263e-01  3.30085035e-01\n",
            "   9.62606780e-01 -6.62761146e-01]\n",
            " [-3.95229786e-01 -6.69261578e-01 -4.98294495e-01  9.09282503e-01\n",
            "   1.59819772e-02 -6.62761146e-01]\n",
            " [ 1.78181932e+00  5.65178885e-01  2.02621781e-01  6.98665242e-01\n",
            "   3.94631898e-01  1.50883920e+00]\n",
            " [-1.46842301e+00 -6.69261578e-01 -1.05643153e+00 -7.60169022e-01\n",
            "  -1.02530531e+00 -6.62761146e-01]\n",
            " [ 3.40674138e-01 -6.69261578e-01 -4.07434978e-01 -2.30528557e-01\n",
            "   2.95051887e+00 -6.62761146e-01]\n",
            " [-6.71193757e-01  1.18881179e-01  3.71360884e-01  1.72564563e-02\n",
            "  -1.73342983e-01 -6.62761146e-01]\n",
            " [ 7.08626099e-01 -6.69261578e-01  9.55457781e-01  1.87608653e-01\n",
            "   4.89294379e-01  1.50883920e+00]\n",
            " [-8.86031510e-02 -6.69261578e-01  1.52657475e+00  6.18135113e-01\n",
            "  -1.02530531e+00  1.50883920e+00]\n",
            " [-1.03914572e+00 -6.69261578e-01 -2.90615599e-01  8.65920126e-01\n",
            "  -6.46655385e-01 -6.62761146e-01]\n",
            " [-1.83637497e+00 -6.69261578e-01  4.23280608e-01 -7.75655585e-01\n",
            "   1.34125670e+00 -6.62761146e-01]\n",
            " [-7.32519084e-01  6.60135844e-01 -1.03047167e+00 -1.99112957e-02\n",
            "  -9.30642826e-01 -6.62761146e-01]\n",
            " [ 9.53728299e-02 -6.69261578e-01  6.04999643e-01  6.37161462e-02\n",
            "  -1.02530531e+00 -6.62761146e-01]\n",
            " [-5.17880440e-01 -6.69261578e-01 -1.65350836e+00  2.74333407e-01\n",
            "  -4.57330424e-01 -6.62761146e-01]\n",
            " [ 9.84590071e-01  6.60135844e-01  1.22803633e+00  2.10794250e+00\n",
            "   6.78619339e-01 -6.62761146e-01]\n",
            " [-2.72579132e-01 -6.69261578e-01 -7.96832909e-01 -5.77427575e-01\n",
            "  -7.41317865e-01 -6.62761146e-01]\n",
            " [-3.33904459e-01 -6.69261578e-01 -6.67033599e-01 -6.23887265e-01\n",
            "  -1.73342983e-01 -6.62761146e-01]\n",
            " [ 4.63324792e-01  6.12657365e-01 -6.67033599e-01  4.75658730e-01\n",
            "   1.81456910e+00 -6.62761146e-01]\n",
            " [-5.79205767e-01  7.14027001e-02  1.22803633e+00  7.96451827e-03\n",
            "  -1.02530531e+00 -6.62761146e-01]\n",
            " [-5.79205767e-01  3.27786489e-01 -2.38695875e-01  6.24329738e-01\n",
            "  -4.57330424e-01 -6.62761146e-01]\n",
            " [ 3.40475030e-02  8.31058370e-01  6.56919367e-01  9.99104570e-01\n",
            "  -3.62667944e-01 -6.62761146e-01]\n",
            " [-5.79404875e-02 -1.94476784e-01 -1.14729105e+00 -8.93353466e-01\n",
            "  -7.41317865e-01 -6.62761146e-01]\n",
            " [ 1.44453002e+00 -6.69261578e-01  2.28581643e-01 -1.11016535e+00\n",
            "   8.67944300e-01  1.50883920e+00]\n",
            " [ 4.63324792e-01  5.65178885e-01 -3.68495185e-01 -7.23001270e-01\n",
            "   9.62606780e-01  1.50883920e+00]\n",
            " [-1.19265814e-01  4.93282902e-03 -7.70873047e-01 -5.58843699e-01\n",
            "  -1.02530531e+00 -6.62761146e-01]\n",
            " [-5.79404875e-02 -7.10327379e-02  5.66059850e-01 -6.61055017e-01\n",
            "  -6.46655385e-01 -6.62761146e-01]\n",
            " [ 1.81248198e+00 -4.56286685e-03  3.71360884e-01 -6.88930831e-01\n",
            "  -5.51992905e-01 -6.62761146e-01]\n",
            " [-5.79404875e-02  2.04342442e-01  4.88180263e-01  7.17249118e-01\n",
            "  -8.35980346e-01 -6.62761146e-01]\n",
            " [-9.47157728e-01 -6.69261578e-01  1.50061488e+00  2.03095216e-01\n",
            "  -1.02530531e+00 -6.62761146e-01]\n",
            " [-6.71193757e-01 -1.56494001e-01 -5.50214220e-01  1.10618309e-02\n",
            "   1.59819772e-02 -6.62761146e-01]\n",
            " [ 2.21109661e+00 -6.69261578e-01  4.88180263e-01 -7.81850211e-01\n",
            "  -6.46655385e-01  1.50883920e+00]\n",
            " [ 2.33374726e+00  4.48690128e+00 -8.29367022e-02 -1.03892716e+00\n",
            "   2.00389406e+00  1.50883920e+00]\n",
            " [-5.79205767e-01 -6.69261578e-01 -4.04181567e+00  2.43360281e-01\n",
            "  -1.02530531e+00 -6.62761146e-01]\n",
            " [-3.95229786e-01 -1.37502609e-01 -7.70873047e-01 -1.13184654e+00\n",
            "  -1.02530531e+00 -6.62761146e-01]\n",
            " [ 2.48686147e-01  4.22743447e-01 -6.15113875e-01 -8.49991089e-01\n",
            "  -3.62667944e-01  1.50883920e+00]\n",
            " [-3.64567122e-01  2.70812313e-01  4.75200332e-01  1.27476540e+00\n",
            "  -5.51992905e-01  1.50883920e+00]\n",
            " [ 1.26035493e-01 -6.69261578e-01  1.50702056e-01  1.31857025e-01\n",
            "  -4.57330424e-01  1.50883920e+00]\n",
            " [ 3.71336801e-01 -6.69261578e-01 -5.37234289e-01 -7.69460960e-01\n",
            "   3.94631898e-01 -6.62761146e-01]\n",
            " [-3.95229786e-01 -7.10327379e-02  1.76661919e-01 -5.43357136e-01\n",
            "  -9.30642826e-01 -6.62761146e-01]\n",
            " [ 9.23264744e-01  1.90407200e+00  1.38379551e+00  7.69903433e-01\n",
            "   5.83956859e-01  1.50883920e+00]\n",
            " [ 4.93987455e-01 -6.69261578e-01  1.11762263e-01 -3.17253311e-01\n",
            "   6.78619339e-01 -6.62761146e-01]\n",
            " [-9.16495065e-01  1.32483455e+00  1.13717682e+00 -3.48226438e-01\n",
            "  -6.46655385e-01 -6.62761146e-01]\n",
            " [-3.70679744e+00 -6.69261578e-01 -8.35772702e-01 -1.09467879e+00\n",
            "  -9.30642826e-01 -6.62761146e-01]\n",
            " [-1.10047105e+00 -6.69261578e-01 -5.89154013e-01 -4.41145818e-01\n",
            "  -7.86805031e-02 -6.62761146e-01]\n",
            " [-1.80591141e-01 -6.69261578e-01  2.82456785e+00 -8.80964216e-01\n",
            "  -3.62667944e-01  1.50883920e+00]\n",
            " [ 4.01999465e-01 -6.69261578e-01 -2.90615599e-01  1.50440901e-01\n",
            "  -8.35980346e-01  1.50883920e+00]\n",
            " [-1.80591141e-01 -6.69261578e-01 -4.04181567e+00 -7.19903957e-01\n",
            "  -1.73342983e-01  1.50883920e+00]\n",
            " [ 1.41386736e+00  1.52424417e+00  8.38638401e-01 -1.01724597e+00\n",
            "   1.05726926e+00  1.50883920e+00]\n",
            " [ 8.00614090e-01  2.11297731e+00  4.88180263e-01 -3.35837187e-01\n",
            "  -1.73342983e-01 -6.62761146e-01]\n",
            " [ 1.26035493e-01 -6.69261578e-01 -8.35772702e-01 -8.90256154e-01\n",
            "  -1.02530531e+00 -6.62761146e-01]\n",
            " [ 5.24650119e-01 -6.69261578e-01  6.69899298e-01  1.36149015e+00\n",
            "  -6.46655385e-01  1.50883920e+00]\n",
            " [ 1.87380731e+00 -6.69261578e-01 -8.29367022e-02 -4.59729694e-01\n",
            "  -2.68005464e-01  1.50883920e+00]\n",
            " [ 2.33374726e+00 -6.69261578e-01 -6.80013530e-01  2.16059682e+00\n",
            "   6.78619339e-01  1.50883920e+00]\n",
            " [ 1.35254203e+00 -6.69261578e-01 -9.59166333e-02 -5.92914138e-01\n",
            "   1.62524414e+00  1.50883920e+00]\n",
            " [ 3.40475030e-02 -6.69261578e-01 -1.05643153e+00 -7.41585146e-01\n",
            "   7.73281820e-01 -6.62761146e-01]\n",
            " [-4.56555113e-01 -6.69261578e-01  7.92281505e-03 -3.51323751e-01\n",
            "   9.62606780e-01 -6.62761146e-01]\n",
            " [-1.49908567e+00 -6.69261578e-01  5.98425392e-02 -6.61055017e-01\n",
            "   5.83956859e-01 -6.62761146e-01]\n",
            " [-3.95229786e-01 -6.69261578e-01 -4.39969091e-02 -1.03892716e+00\n",
            "  -1.02530531e+00 -6.62761146e-01]\n",
            " [-5.79404875e-02 -6.69261578e-01 -7.70873047e-01 -8.80964216e-01\n",
            "   4.89294379e-01 -6.62761146e-01]\n",
            " [-1.06980838e+00 -6.69261578e-01  6.04999643e-01 -7.91142149e-01\n",
            "  -6.46655385e-01 -6.62761146e-01]\n",
            " [ 1.90446998e+00 -6.69261578e-01  1.25399619e+00  2.99687124e+00\n",
            "   1.24659422e+00 -6.62761146e-01]\n",
            " [ 1.53651801e+00 -6.69261578e-01  1.61743426e+00 -4.46897970e-02\n",
            "  -5.51992905e-01  1.50883920e+00]\n",
            " [ 4.93987455e-01 -6.69261578e-01  7.92281505e-03 -7.47779771e-01\n",
            "  -1.73342983e-01 -6.62761146e-01]\n",
            " [-1.62173632e+00 -2.03972480e-01  5.66059850e-01 -6.45568453e-01\n",
            "   1.43591918e+00 -6.62761146e-01]\n",
            " [ 1.01525273e+00  1.16340773e+00 -2.38695875e-01  1.07034276e+00\n",
            "   6.78619339e-01 -6.62761146e-01]\n",
            " [-1.16179637e+00 -6.69261578e-01 -2.38695875e-01 -5.46454448e-01\n",
            "   2.05306938e-01 -6.62761146e-01]\n",
            " [-7.32519084e-01 -6.69261578e-01  9.03538057e-01 -8.53088402e-01\n",
            "  -1.73342983e-01 -6.62761146e-01]\n",
            " [-6.40531094e-01 -6.69261578e-01  9.81417643e-01 -9.39813156e-01\n",
            "   9.62606780e-01 -6.62761146e-01]\n",
            " [ 4.63324792e-01  1.26786038e+00  8.12678539e-01 -2.92474810e-01\n",
            "  -7.41317865e-01 -6.62761146e-01]\n",
            " [-3.33904459e-01  5.17700406e-01  1.63681987e-01  6.33621676e-01\n",
            "  -4.57330424e-01 -6.62761146e-01]\n",
            " [-7.32519084e-01  1.09385484e-01 -1.67946822e+00 -6.02206076e-01\n",
            "  -1.02530531e+00 -6.62761146e-01]\n",
            " [-7.93844411e-01 -6.69261578e-01  5.53079919e-01 -6.48665766e-01\n",
            "  -3.62667944e-01 -6.62761146e-01]\n",
            " [-8.85832401e-01 -6.69261578e-01  1.43571523e+00 -7.94239461e-01\n",
            "  -2.68005464e-01 -6.62761146e-01]\n",
            " [ 5.55312782e-01 -6.69261578e-01 -7.18953323e-01 -2.83182872e-01\n",
            "  -9.30642826e-01  1.50883920e+00]\n",
            " [-5.48543103e-01  1.18881179e-01  1.57849447e+00 -9.61494345e-01\n",
            "   1.10644458e-01 -6.62761146e-01]\n",
            " [ 1.84314465e+00  1.15391203e+00  6.17979574e-01  2.86722658e-01\n",
            "   1.81456910e+00  1.50883920e+00]\n",
            " [-8.24507074e-01  4.22743447e-01  1.60445433e+00 -4.53535068e-01\n",
            "  -1.02530531e+00 -6.62761146e-01]\n",
            " [ 9.53728299e-02 -6.69261578e-01 -4.33394840e-01 -1.21857130e+00\n",
            "  -1.73342983e-01 -6.62761146e-01]\n",
            " [ 2.48686147e-01 -6.69261578e-01 -4.07434978e-01 -6.48665766e-01\n",
            "  -4.57330424e-01 -6.62761146e-01]\n",
            " [-2.41916468e-01  1.37872571e-01 -2.12736013e-01  4.10615164e-01\n",
            "  -6.46655385e-01 -6.62761146e-01]\n",
            " [-5.48543103e-01  1.09385484e-01 -1.52370905e+00 -7.52204504e-03\n",
            "  -9.30642826e-01 -6.62761146e-01]\n",
            " [ 1.32187937e+00 -3.30499545e-02  2.15601712e-01 -4.72118944e-01\n",
            "   1.71990662e+00 -6.62761146e-01]\n",
            " [-3.03241795e-01 -2.51450959e-01 -2.12736013e-01 -1.96458117e-01\n",
            "  -9.30642826e-01 -6.62761146e-01]\n",
            " [-7.32519084e-01  1.94846746e-01  1.26697613e+00  1.16945677e+00\n",
            "   1.59819772e-02  1.50883920e+00]\n",
            " [ 9.53927407e-01  1.91356770e+00  1.34485571e+00 -6.92028143e-01\n",
            "  -4.57330424e-01 -6.62761146e-01]\n",
            " [-3.03241795e-01  1.29634747e+00  7.73738746e-01  2.77696204e+00\n",
            "   2.28788150e+00  1.50883920e+00]\n",
            " [-1.80591141e-01 -6.69261578e-01 -2.90615599e-01 -3.63713001e-01\n",
            "   1.34125670e+00  1.50883920e+00]\n",
            " [-2.11253805e-01  2.03701174e+00  1.69531385e+00 -1.01105135e+00\n",
            "  -4.57330424e-01 -6.62761146e-01]\n",
            " [-6.71193757e-01  2.23333834e-01 -8.48752633e-01  4.44685604e-01\n",
            "  -1.02530531e+00 -6.62761146e-01]\n",
            " [-3.33904459e-01 -6.69261578e-01  8.38638401e-01 -9.36715844e-01\n",
            "  -1.73342983e-01 -6.62761146e-01]\n",
            " [-7.93844411e-01 -3.08425135e-01 -1.49774919e+00 -4.93800133e-01\n",
            "  -6.46655385e-01 -6.62761146e-01]\n",
            " [ 2.18023484e-01 -6.69261578e-01  1.15015675e+00  1.88183868e+00\n",
            "  -7.41317865e-01 -6.62761146e-01]\n",
            " [-3.95229786e-01 -6.69261578e-01 -8.29367022e-02  1.42963103e+00\n",
            "   1.10644458e-01  1.50883920e+00]\n",
            " [ 1.56698157e-01  4.70221927e-01 -4.85314564e-01  6.68134589e-02\n",
            "  -1.02530531e+00 -6.62761146e-01]\n",
            " [ 4.93987455e-01 -6.69261578e-01  2.67521436e-01 -1.00175941e+00\n",
            "  -9.30642826e-01 -6.62761146e-01]\n",
            " [-6.71193757e-01 -6.15370421e-02 -1.53668898e+00 -6.48665766e-01\n",
            "  -1.73342983e-01 -6.62761146e-01]\n",
            " [ 1.90446998e+00 -6.69261578e-01 -1.01749174e+00  5.53091547e-01\n",
            "   1.59819772e-02  1.50883920e+00]\n",
            " [-1.00848306e+00 -5.17330444e-01 -3.55515254e-01  8.44238937e-01\n",
            "  -9.30642826e-01 -6.62761146e-01]\n",
            " [-2.72579132e-01  9.92485199e-01  3.97320746e-01 -7.23001270e-01\n",
            "   3.94631898e-01  1.50883920e+00]\n",
            " [ 6.77963436e-01 -6.69261578e-01  4.88180263e-01 -1.12874923e+00\n",
            "   8.67944300e-01  1.50883920e+00]\n",
            " [ 2.18023484e-01 -1.18511217e-01  1.11762263e-01  2.56324746e+00\n",
            "   1.10644458e-01  1.50883920e+00]\n",
            " [ 1.59784334e+00  3.83169826e+00  5.92019712e-01 -7.29195895e-01\n",
            "  -9.30642826e-01  1.50883920e+00]\n",
            " [ 1.22989138e+00 -6.69261578e-01 -9.59166333e-02 -1.01724597e+00\n",
            "   1.43591918e+00  1.50883920e+00]\n",
            " [-3.95229786e-01  1.97054187e+00 -7.57893116e-01  1.20042989e+00\n",
            "  -9.30642826e-01 -6.62761146e-01]\n",
            " [ 2.21109661e+00  2.89162437e+00 -6.80013530e-01  5.00437232e-01\n",
            "  -7.41317865e-01 -6.62761146e-01]\n",
            " [-3.03241795e-01 -6.69261578e-01 -1.34856426e-01 -1.08538685e+00\n",
            "  -8.35980346e-01 -6.62761146e-01]\n",
            " [-2.72778240e-02  7.55092803e-01  1.44869516e+00  9.03087878e-01\n",
            "   1.53058166e+00  1.50883920e+00]\n",
            " [-2.72579132e-01 -6.69261578e-01  1.07227716e+00 -7.97336774e-01\n",
            "   5.83956859e-01 -6.62761146e-01]\n",
            " [-5.48543103e-01 -6.69261578e-01  1.04631730e+00 -5.83622200e-01\n",
            "   3.13984383e+00 -6.62761146e-01]\n",
            " [-1.80591141e-01  6.60135844e-01  9.03538057e-01 -1.06370566e+00\n",
            "  -3.62667944e-01 -6.62761146e-01]\n",
            " [ 3.38483947e-03 -6.69261578e-01 -6.02133944e-01 -7.26098583e-01\n",
            "   2.85585639e+00 -6.62761146e-01]\n",
            " [ 6.77963436e-01 -9.00241297e-02 -6.41073737e-01 -7.35390521e-01\n",
            "  -1.02530531e+00 -6.62761146e-01]\n",
            " [-9.47157728e-01 -6.69261578e-01 -9.91531875e-01 -9.36715844e-01\n",
            "  -6.46655385e-01 -6.62761146e-01]\n",
            " [ 1.87360820e-01  8.02571282e-01  4.36260539e-01  3.23890410e-01\n",
            "  -3.62667944e-01 -6.62761146e-01]\n",
            " [-1.49928478e-01 -6.69261578e-01  1.50702056e-01  5.15923795e-01\n",
            "   2.99969418e-01  1.50883920e+00]\n",
            " [ 4.32662128e-01 -6.69261578e-01 -5.76174082e-01  5.99551237e-01\n",
            "   2.85585639e+00 -6.62761146e-01]\n",
            " [ 1.65916867e+00 -6.69261578e-01 -1.06941146e+00 -5.18578634e-01\n",
            "  -9.30642826e-01 -6.62761146e-01]\n",
            " [ 5.55312782e-01  6.60135844e-01 -3.29555392e-01 -2.55307058e-01\n",
            "  -5.51992905e-01 -6.62761146e-01]\n",
            " [-4.87217776e-01 -6.69261578e-01 -4.04181567e+00 -5.83622200e-01\n",
            "  -7.41317865e-01 -6.62761146e-01]\n",
            " [-1.22312170e+00 -6.69261578e-01 -4.46374771e-01 -6.30081890e-01\n",
            "  -6.46655385e-01 -6.62761146e-01]\n",
            " [ 1.56718068e+00  4.82874633e+00  1.46167509e+00  6.46010927e-01\n",
            "  -3.62667944e-01  1.50883920e+00]\n",
            " [-8.24507074e-01  8.08983960e-02  2.80501367e-01  7.57514183e-01\n",
            "   8.67944300e-01 -6.62761146e-01]\n",
            " [-5.79205767e-01 -6.69261578e-01  2.28581643e-01  5.31410358e-01\n",
            "   1.34125670e+00  1.50883920e+00]\n",
            " [-4.25892449e-01 -6.69261578e-01 -3.68495185e-01 -9.67688970e-01\n",
            "  -2.68005464e-01 -6.62761146e-01]\n",
            " [-5.48543103e-01 -6.69261578e-01  1.03333737e+00 -4.62827006e-01\n",
            "  -7.86805031e-02  1.50883920e+00]\n",
            " [ 6.16638109e-01 -6.69261578e-01 -1.47836357e-01  8.28752374e-01\n",
            "  -4.57330424e-01  1.50883920e+00]\n",
            " [-2.72778240e-02 -6.69261578e-01 -5.63194151e-01 -1.19025301e-01\n",
            "  -4.57330424e-01 -6.62761146e-01]\n",
            " [-1.03914572e+00 -1.75485392e-01  2.02621781e-01 -1.01414866e+00\n",
            "  -6.46655385e-01 -6.62761146e-01]\n",
            " [ 1.01525273e+00  5.27196102e-01  2.09027461e-02 -4.81410882e-01\n",
            "   4.89294379e-01 -6.62761146e-01]\n",
            " [-4.87217776e-01 -6.69261578e-01 -8.87692427e-01 -9.49105094e-01\n",
            "  -1.02530531e+00 -6.62761146e-01]\n",
            " [-1.80571231e+00 -6.69261578e-01  1.89641850e-01 -3.17253311e-01\n",
            "   8.67944300e-01 -6.62761146e-01]\n",
            " [-2.11253805e-01 -6.69261578e-01  2.15601712e-01 -7.29195895e-01\n",
            "   9.62606780e-01  1.50883920e+00]\n",
            " [-6.71193757e-01 -6.69261578e-01 -7.44913185e-01  1.78316715e-01\n",
            "  -1.02530531e+00 -6.62761146e-01]\n",
            " [-1.00848306e+00 -4.50860573e-01 -8.74712496e-01 -4.69021632e-01\n",
            "  -1.73342983e-01 -6.62761146e-01]\n",
            " [-1.25378436e+00 -6.69261578e-01 -6.41073737e-01 -5.58843699e-01\n",
            "   8.67944300e-01 -6.62761146e-01]\n",
            " [-7.32519084e-01 -6.69261578e-01 -5.11274426e-01  1.86325480e+00\n",
            "  -9.30642826e-01 -6.62761146e-01]\n",
            " [-4.87217776e-01  1.14441633e+00  3.32421091e-01  6.73886741e-01\n",
            "  -2.68005464e-01  1.50883920e+00]\n",
            " [-1.10047105e+00 -2.03972480e-01 -4.33394840e-01 -5.80524888e-01\n",
            "  -3.62667944e-01 -6.62761146e-01]\n",
            " [ 6.47300773e-01 -6.69261578e-01  1.66935399e+00  4.69464105e-01\n",
            "  -9.30642826e-01  1.50883920e+00]\n",
            " [-1.49928478e-01  3.27786489e-01 -6.28093806e-01 -1.19689011e+00\n",
            "  -7.41317865e-01 -6.62761146e-01]\n",
            " [-4.25892449e-01  1.09385484e-01 -4.39969091e-02  1.01459113e+00\n",
            "  -7.41317865e-01 -6.62761146e-01]]\n"
          ],
          "name": "stdout"
        }
      ]
    },
    {
      "cell_type": "markdown",
      "metadata": {
        "id": "1HTwiwrL_Ek3"
      },
      "source": [
        "**ML MODELING**\n",
        "\n",
        "---\n",
        "**(1) KNN**\n"
      ]
    },
    {
      "cell_type": "code",
      "metadata": {
        "colab": {
          "base_uri": "https://localhost:8080/"
        },
        "id": "1fJmLlcj_ChS",
        "outputId": "642f3f8e-1fff-4d11-8bbb-b28fae2498c3"
      },
      "source": [
        "kn_classifier = KNeighborsClassifier(n_neighbors=5,metric = 'minkowski',p=2)\n",
        "kn_classifier.fit(X_train,y_train)"
      ],
      "execution_count": 58,
      "outputs": [
        {
          "output_type": "execute_result",
          "data": {
            "text/plain": [
              "KNeighborsClassifier(algorithm='auto', leaf_size=30, metric='minkowski',\n",
              "                     metric_params=None, n_jobs=None, n_neighbors=5, p=2,\n",
              "                     weights='uniform')"
            ]
          },
          "metadata": {
            "tags": []
          },
          "execution_count": 58
        }
      ]
    },
    {
      "cell_type": "code",
      "metadata": {
        "id": "fWr_G6S5_vw8"
      },
      "source": [
        "kn_y_pred = kn_classifier.predict(X_test)"
      ],
      "execution_count": 59,
      "outputs": []
    },
    {
      "cell_type": "code",
      "metadata": {
        "colab": {
          "base_uri": "https://localhost:8080/"
        },
        "id": "5KGMtGfZ_6eN",
        "outputId": "461d65d2-f89a-4b8d-c3cb-7fdd349e9e1b"
      },
      "source": [
        "cm_kn = confusion_matrix(y_test,kn_y_pred)\n",
        "print(cm_kn)"
      ],
      "execution_count": 60,
      "outputs": [
        {
          "output_type": "stream",
          "text": [
            "[[107   0]\n",
            " [  1  46]]\n"
          ],
          "name": "stdout"
        }
      ]
    },
    {
      "cell_type": "code",
      "metadata": {
        "colab": {
          "base_uri": "https://localhost:8080/"
        },
        "id": "7zkhCsrbAHO4",
        "outputId": "74265dc4-6507-4977-ca0b-58eead25835a"
      },
      "source": [
        "print(\"Correct : \",sum(kn_y_pred == y_test))\n",
        "print(\"Incorrect : \",sum(kn_y_pred != y_test))\n",
        "print(\"Accuracy : \",sum(kn_y_pred == y_test)/len(kn_y_pred))"
      ],
      "execution_count": 61,
      "outputs": [
        {
          "output_type": "stream",
          "text": [
            "Correct :  153\n",
            "Incorrect :  1\n",
            "Accuracy :  0.9935064935064936\n"
          ],
          "name": "stdout"
        }
      ]
    },
    {
      "cell_type": "markdown",
      "metadata": {
        "id": "CRPP4VWMA15X"
      },
      "source": [
        "**(2)SVM**"
      ]
    },
    {
      "cell_type": "code",
      "metadata": {
        "colab": {
          "base_uri": "https://localhost:8080/"
        },
        "id": "d1OPOrH8AJvt",
        "outputId": "9816526c-8b7f-41f7-8199-819e76c4eb75"
      },
      "source": [
        "svc_classifier = SVC(kernel=\"linear\",random_state = 0)\n",
        "svc_classifier.fit(X_train,y_train)"
      ],
      "execution_count": 62,
      "outputs": [
        {
          "output_type": "execute_result",
          "data": {
            "text/plain": [
              "SVC(C=1.0, break_ties=False, cache_size=200, class_weight=None, coef0=0.0,\n",
              "    decision_function_shape='ovr', degree=3, gamma='scale', kernel='linear',\n",
              "    max_iter=-1, probability=False, random_state=0, shrinking=True, tol=0.001,\n",
              "    verbose=False)"
            ]
          },
          "metadata": {
            "tags": []
          },
          "execution_count": 62
        }
      ]
    },
    {
      "cell_type": "code",
      "metadata": {
        "id": "qyNIn3H4BcAy"
      },
      "source": [
        "svc_y_pred = svc_classifier.predict(X_test)"
      ],
      "execution_count": 63,
      "outputs": []
    },
    {
      "cell_type": "code",
      "metadata": {
        "colab": {
          "base_uri": "https://localhost:8080/"
        },
        "id": "8o5X3zjdBm4S",
        "outputId": "41b37ea0-a989-494e-c858-3568c8cf1c22"
      },
      "source": [
        "svc_cm = confusion_matrix(y_test,svc_y_pred)\n",
        "print(svc_cm)"
      ],
      "execution_count": 64,
      "outputs": [
        {
          "output_type": "stream",
          "text": [
            "[[107   0]\n",
            " [  0  47]]\n"
          ],
          "name": "stdout"
        }
      ]
    },
    {
      "cell_type": "code",
      "metadata": {
        "colab": {
          "base_uri": "https://localhost:8080/"
        },
        "id": "Jio884xJB1r8",
        "outputId": "adc4e2d5-5613-47ac-a6bd-e584f3b70b37"
      },
      "source": [
        "print(\"Correct : \",sum(svc_y_pred == y_test))\n",
        "print(\"Incorrect : \",sum(svc_y_pred != y_test))\n",
        "print(\"Accuracy : \",sum(svc_y_pred == y_test)/len(kn_y_pred))"
      ],
      "execution_count": 66,
      "outputs": [
        {
          "output_type": "stream",
          "text": [
            "Correct :  154\n",
            "Incorrect :  0\n",
            "Accuracy :  1.0\n"
          ],
          "name": "stdout"
        }
      ]
    },
    {
      "cell_type": "markdown",
      "metadata": {
        "id": "VDM18W9DCejU"
      },
      "source": [
        "**(3)Naive Bias**"
      ]
    },
    {
      "cell_type": "code",
      "metadata": {
        "colab": {
          "base_uri": "https://localhost:8080/"
        },
        "id": "oZDjo13gCRSN",
        "outputId": "05514a59-bb8e-4737-b124-0d904c644c69"
      },
      "source": [
        "nb_classifier = GaussianNB()\n",
        "nb_classifier.fit(X_train,y_train)"
      ],
      "execution_count": 67,
      "outputs": [
        {
          "output_type": "execute_result",
          "data": {
            "text/plain": [
              "GaussianNB(priors=None, var_smoothing=1e-09)"
            ]
          },
          "metadata": {
            "tags": []
          },
          "execution_count": 67
        }
      ]
    },
    {
      "cell_type": "code",
      "metadata": {
        "id": "zWBxVxPeCzud"
      },
      "source": [
        "nb_y_pred= nb_classifier.predict(X_test)"
      ],
      "execution_count": 71,
      "outputs": []
    },
    {
      "cell_type": "code",
      "metadata": {
        "colab": {
          "base_uri": "https://localhost:8080/"
        },
        "id": "uNPAPX5SDCja",
        "outputId": "86c068dc-4c73-4ea5-ccbc-3d4c3f9c88f8"
      },
      "source": [
        "nb_cm = confusion_matrix(nb_y_pred,y_test)\n",
        "print(nb_cm)"
      ],
      "execution_count": 72,
      "outputs": [
        {
          "output_type": "stream",
          "text": [
            "[[107   0]\n",
            " [  0  47]]\n"
          ],
          "name": "stdout"
        }
      ]
    },
    {
      "cell_type": "code",
      "metadata": {
        "colab": {
          "base_uri": "https://localhost:8080/"
        },
        "id": "nvJxWLMZDTLY",
        "outputId": "51a4e0a3-0810-4a57-c6a7-40d656b02cc0"
      },
      "source": [
        "print(\"Correct : \",sum(nb_y_pred == y_test))\n",
        "print(\"Incorrect : \",sum(nb_y_pred != y_test))\n",
        "print(\"Accuracy : \",sum(nb_y_pred == y_test)/len(nb_y_pred))"
      ],
      "execution_count": 73,
      "outputs": [
        {
          "output_type": "stream",
          "text": [
            "Correct :  154\n",
            "Incorrect :  0\n",
            "Accuracy :  1.0\n"
          ],
          "name": "stdout"
        }
      ]
    },
    {
      "cell_type": "markdown",
      "metadata": {
        "id": "C1o2c3BRDwD3"
      },
      "source": [
        "Result : The dataset consists of 768 records and 9 columns\n",
        "\n",
        "---The ML model KNN was able to classify patients as diabetic or not with an accuracy of 99.35%\n",
        "\n",
        "---The ML model SVM , Naive Bias were able to classify patients as diabetic or not with an accuracy of 100%\n",
        "\n",
        "\n",
        "\n"
      ]
    },
    {
      "cell_type": "code",
      "metadata": {
        "id": "UYbnf9piDtFr"
      },
      "source": [
        ""
      ],
      "execution_count": null,
      "outputs": []
    }
  ]
}